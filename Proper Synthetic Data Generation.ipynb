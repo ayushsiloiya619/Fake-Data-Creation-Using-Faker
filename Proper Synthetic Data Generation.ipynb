{
 "cells": [
  {
   "cell_type": "markdown",
   "id": "38816b99-05cd-451d-b3d8-0424f449ae31",
   "metadata": {},
   "source": [
    "## Getting started with faker."
   ]
  },
  {
   "cell_type": "code",
   "execution_count": 27,
   "id": "2ab2b0db-7a97-48da-9a3f-99223045352e",
   "metadata": {},
   "outputs": [],
   "source": [
    "from faker import Faker\n",
    "faker = Faker()"
   ]
  },
  {
   "cell_type": "markdown",
   "id": "c31b5db1-bc5f-4c00-a1cd-cec3f1a0a43a",
   "metadata": {},
   "source": [
    "###  fake name generation"
   ]
  },
  {
   "cell_type": "code",
   "execution_count": 28,
   "id": "fbffb05d-5db8-4fa8-965c-92d5d91b4845",
   "metadata": {},
   "outputs": [
    {
     "name": "stdout",
     "output_type": "stream",
     "text": [
      "My fake name is : Jenny Moon\n"
     ]
    }
   ],
   "source": [
    "#let's start with name\n",
    "fake_name=faker.name()\n",
    "print(\"My fake name is :\", fake_name)"
   ]
  },
  {
   "cell_type": "markdown",
   "id": "eaeb936d-f31c-4f43-b047-6fc2160ff1b0",
   "metadata": {},
   "source": [
    "### fake email generation"
   ]
  },
  {
   "cell_type": "code",
   "execution_count": 29,
   "id": "3ce4e72b-fac3-4ad7-bc56-bb895743982c",
   "metadata": {},
   "outputs": [
    {
     "name": "stdout",
     "output_type": "stream",
     "text": [
      "My fake email is : schmittcaroline@example.com\n"
     ]
    }
   ],
   "source": [
    "# let's start with email\n",
    "fake_email=faker.email()\n",
    "print(\"My fake email is :\", fake_email)"
   ]
  },
  {
   "cell_type": "markdown",
   "id": "34ae9805-de9f-4eb5-bd89-550681de5742",
   "metadata": {},
   "source": [
    "### fake address generation"
   ]
  },
  {
   "cell_type": "code",
   "execution_count": 30,
   "id": "29c8c05a-2f89-4ecb-b869-4e33b1310af0",
   "metadata": {},
   "outputs": [
    {
     "name": "stdout",
     "output_type": "stream",
     "text": [
      "My fake address is: 73158 Wilson Harbors\n",
      "Port Roy, OH 81991\n"
     ]
    }
   ],
   "source": [
    "# let's start with address\n",
    "fake_address=faker.address()\n",
    "print(\"My fake address is:\", fake_address)"
   ]
  },
  {
   "cell_type": "markdown",
   "id": "199ea9b7-5156-4a93-8de6-05759ec0d015",
   "metadata": {},
   "source": [
    "### Custome domain for email."
   ]
  },
  {
   "cell_type": "code",
   "execution_count": 33,
   "id": "92904678-1e5f-4b6d-8950-8ad9e2040fd7",
   "metadata": {},
   "outputs": [
    {
     "name": "stdout",
     "output_type": "stream",
     "text": [
      "My real email is: michael22@ayush@gmail.com\n"
     ]
    }
   ],
   "source": [
    "fake_email=faker.email(domain='ayush@gmail.com')\n",
    "print(\"My real email is:\", fake_email)"
   ]
  },
  {
   "cell_type": "markdown",
   "id": "d8c1c041-77e0-4aee-b39c-1914c8c436c3",
   "metadata": {},
   "source": [
    "### Not properly but also somehow similar email generated in terms of domain only.\n",
    "### For example @ayush@gmail.com"
   ]
  },
  {
   "cell_type": "markdown",
   "id": "016772e3-5f4c-4f8e-89fc-77c7d6959453",
   "metadata": {},
   "source": [
    "### Metadata creation."
   ]
  },
  {
   "cell_type": "code",
   "execution_count": 40,
   "id": "c614a80c-8004-491f-8b1a-fa54a39e6c1c",
   "metadata": {},
   "outputs": [
    {
     "name": "stdout",
     "output_type": "stream",
     "text": [
      "                 Email                  Name  \\\n",
      "0  wbishop@example.net       Laura Alexander   \n",
      "1   pyoung@example.com            Paula Shaw   \n",
      "2   mmckee@example.com  Christopher Gonzalez   \n",
      "\n",
      "                                             Address  \n",
      "0  75818 Justin Track Apt. 478\\nPort Samuel, PW 2...  \n",
      "1  60685 Paul Common Suite 305\\nPort Jennifermout...  \n",
      "2  2779 Rebecca Brook Suite 328\\nRodriguezport, I...  \n"
     ]
    }
   ],
   "source": [
    "import pandas as pd\n",
    "faker=Faker()\n",
    "data_pii = {\n",
    "    'Email': [faker.email(), faker.email(), faker.email()],\n",
    "    'Name': [faker.name(), faker.name(), faker.name()],\n",
    "    'Address': [faker.address(), faker.address(), faker.address()]\n",
    "}\n",
    "dataframe = pd.DataFrame(data_pii)\n",
    "print(dataframe)"
   ]
  },
  {
   "cell_type": "markdown",
   "id": "f9489da7-2936-4273-9f03-3d676d694c36",
   "metadata": {},
   "source": [
    "### Generation of fake data in terms of metadata."
   ]
  },
  {
   "cell_type": "markdown",
   "id": "06c477e9-00d3-4c5f-9c1a-c13fb0d62473",
   "metadata": {},
   "source": [
    "### Social Security Number (SSN)"
   ]
  },
  {
   "cell_type": "code",
   "execution_count": 41,
   "id": "72d269e8-4db0-4b1d-859b-7210b1474e02",
   "metadata": {},
   "outputs": [
    {
     "name": "stdout",
     "output_type": "stream",
     "text": [
      "Fake Social Sceurity Number is: 125-07-3907\n"
     ]
    }
   ],
   "source": [
    "# let's try social security number\n",
    "faker_ssn=faker.ssn()\n",
    "print(\"Fake Social Sceurity Number is:\", faker_ssn)"
   ]
  },
  {
   "cell_type": "markdown",
   "id": "9c674dd8-168c-43f4-8ae3-7777078ef17a",
   "metadata": {},
   "source": [
    "### Phone Number Creation"
   ]
  },
  {
   "cell_type": "code",
   "execution_count": 43,
   "id": "c1cb30e4-93e0-4cbe-8299-9bda72eb7185",
   "metadata": {},
   "outputs": [
    {
     "name": "stdout",
     "output_type": "stream",
     "text": [
      "+1-253-896-2185x188\n"
     ]
    }
   ],
   "source": [
    "# let's try fake phone number\n",
    "faker_phone=faker.phone_number()\n",
    "print(\"My fake phone number is:\",faker_phone)"
   ]
  },
  {
   "cell_type": "markdown",
   "id": "3b79441f-8dcc-453a-9ba6-4e4eda06d7bb",
   "metadata": {},
   "source": [
    "### Fake DOB Creation"
   ]
  },
  {
   "cell_type": "code",
   "execution_count": 44,
   "id": "fbbea046-75f0-45c9-afbd-6687bb51d502",
   "metadata": {},
   "outputs": [
    {
     "name": "stdout",
     "output_type": "stream",
     "text": [
      "My fake birth date is: 1972-04-12\n"
     ]
    }
   ],
   "source": [
    "# let's try fake date of birth\n",
    "fake_birth=faker.date_of_birth()\n",
    "print(\"My fake birth date is:\",fake_birth)"
   ]
  },
  {
   "cell_type": "markdown",
   "id": "96a6cc1c-8d58-4b33-a2d5-168a1373894f",
   "metadata": {},
   "source": [
    "### Fake Credit Card Creation"
   ]
  },
  {
   "cell_type": "code",
   "execution_count": 45,
   "id": "ea123132-1c14-4290-bb41-8b426639c14f",
   "metadata": {},
   "outputs": [
    {
     "name": "stdout",
     "output_type": "stream",
     "text": [
      "My fake credit card number is: 676365405155\n"
     ]
    }
   ],
   "source": [
    "# let's tyr credit card number\n",
    "fake_credit=faker.credit_card_number()\n",
    "print(\"My fake credit card number is:\", fake_credit)"
   ]
  },
  {
   "cell_type": "markdown",
   "id": "86410576-5c2e-436a-b49b-7d6bcbe23acb",
   "metadata": {},
   "source": [
    "### Creating more data. "
   ]
  },
  {
   "cell_type": "code",
   "execution_count": 92,
   "id": "90d1523f-ece3-4a95-8576-29aef30e7bed",
   "metadata": {},
   "outputs": [
    {
     "name": "stdout",
     "output_type": "stream",
     "text": [
      "['4008576665674910', '6011169236458755', '3566337050249727', '4992011669183626442', '180094611952438', '3540270116864620', '4223728179323026', '4679121416140', '2270937710040900', '2238069847759656', '375356690551075', '3520918435797863', '4050505739769155', '6516493289802713', '4271783332116025647', '4712871539918', '4668633414111594', '4952569040981', '4655289931609', '180052437729422', '3595481497374600']\n"
     ]
    }
   ],
   "source": [
    "# for i in range(21):\n",
    "#     print(faker.credit_card_number(),end=' ')\n",
    "credit_card=[faker.credit_card_number() for _ in range(21)]\n",
    "print(credit_card)"
   ]
  },
  {
   "cell_type": "markdown",
   "id": "75a4e4b2-b5c7-4d6f-a4ae-c11e11959c0d",
   "metadata": {},
   "source": [
    "### Converting the generated data into dataframe with the help of pandas."
   ]
  },
  {
   "cell_type": "code",
   "execution_count": 84,
   "id": "54fab9a1-396f-4a06-96b4-385ec4b76d85",
   "metadata": {},
   "outputs": [
    {
     "name": "stdout",
     "output_type": "stream",
     "text": [
      "     Credit Card Number\n",
      "0      6542493631230348\n",
      "1        38866032420440\n",
      "2      4070015941651627\n",
      "3         4981898471393\n",
      "4      2275963632123470\n",
      "5      6590785158673425\n",
      "6       375409003486453\n",
      "7      4837606441343279\n",
      "8      4604177656124813\n",
      "9       379857002720635\n",
      "10     4591123829657722\n",
      "11  4954316526693008937\n",
      "12     2434206969421523\n",
      "13     3508677133344768\n",
      "14     4393436262044392\n",
      "15       30359710725635\n",
      "16     3569411800537595\n",
      "17     4048964652809248\n",
      "18     4572158624150278\n",
      "19  4644948562572870322\n",
      "20         562074276170\n"
     ]
    }
   ],
   "source": [
    "import pandas as pd\n",
    "data={\n",
    "    'Credit Card Number': [faker.credit_card_number() for _ in range(21)]\n",
    "}\n",
    "dataframe=pd.DataFrame(data)\n",
    "print(dataframe)"
   ]
  },
  {
   "cell_type": "markdown",
   "id": "91ec71c7-58ea-4660-a9fd-ae0e1edd0920",
   "metadata": {},
   "source": [
    "### Exception raised in Credit Card Number. \n",
    "### 1. Data generated in ex: 4444328309652074465 (Failing the validity).\n",
    "### 2. Official validity is 15 or 16 digits.\n",
    "### 3. It can be possible to settle down it's misbehvaiour by slicing upto 15/16 numeric digits."
   ]
  },
  {
   "cell_type": "code",
   "execution_count": 87,
   "id": "b30c280a-18d9-48ce-b511-5b4e3eaa069c",
   "metadata": {},
   "outputs": [
    {
     "name": "stdout",
     "output_type": "stream",
     "text": [
      "   Credit Card Number\n",
      "0        676374120944\n",
      "1     213181398909839\n",
      "2      30018204339713\n",
      "3     180069070562605\n",
      "4     180064111824221\n",
      "5     424620952004615\n",
      "6     410339937886140\n",
      "7     601170630489138\n",
      "8     449671832582386\n",
      "9     180000794200743\n",
      "10    356539840289141\n",
      "11    601128463985547\n",
      "12    455379502097002\n",
      "13    601118071569562\n",
      "14    351753703045319\n",
      "15    433750479303614\n",
      "16    352839992192124\n",
      "17    358430894870605\n",
      "18    654187758030468\n",
      "19     30506351903612\n",
      "20      4254110760955\n"
     ]
    }
   ],
   "source": [
    "import pandas as pd\n",
    "data={\n",
    "    'Credit Card Number': [faker.credit_card_number()[:15] for _ in range(21)]\n",
    "}\n",
    "dataframe=pd.DataFrame(data)\n",
    "print(dataframe)"
   ]
  },
  {
   "cell_type": "markdown",
   "id": "587655fe-5c0b-40e3-bdcf-c145f80df863",
   "metadata": {},
   "source": [
    "### Dive into phone number dataset."
   ]
  },
  {
   "cell_type": "code",
   "execution_count": 59,
   "id": "c48f353f-c5ad-48d9-840d-9a10b861371f",
   "metadata": {},
   "outputs": [
    {
     "name": "stdout",
     "output_type": "stream",
     "text": [
      "             Phone Number\n",
      "0       572-626-9848x5833\n",
      "1   +1-652-828-8515x87996\n",
      "2              6814062003\n",
      "3       542-804-3805x7198\n",
      "4            284.206.6658\n",
      "5   001-943-497-3598x9334\n",
      "6   +1-612-228-1606x48422\n",
      "7      372-702-5909x47985\n",
      "8      532.781.8268x86153\n",
      "9      554-239-8780x15739\n",
      "10  +1-956-216-4840x85887\n",
      "11      835-381-1288x0133\n",
      "12           386.312.0750\n",
      "13             8249819346\n",
      "14   +1-366-750-6180x9190\n",
      "15     514.449.1476x60728\n",
      "16  001-268-842-4508x8210\n",
      "17        +1-481-443-5368\n",
      "18          (939)343-1290\n",
      "19      314-513-9755x2314\n",
      "20     277-759-4929x95562\n"
     ]
    }
   ],
   "source": [
    "### let's check for the phone number case:\n",
    "data={\n",
    "    'Phone Number':[faker.phone_number() for _ in range(21)]\n",
    "}\n",
    "dataframe=pd.DataFrame(data)\n",
    "print(dataframe)"
   ]
  },
  {
   "cell_type": "markdown",
   "id": "af745475-9c3a-4fa6-88f1-f8b681992ccb",
   "metadata": {},
   "source": [
    "### Observations -> \n",
    "### 1. Mix Match - (If customization possible will be helpful.)\n",
    "### 2. Customization in terms of particular country code for ex:(+91 XXXXXXXXX)"
   ]
  },
  {
   "cell_type": "code",
   "execution_count": 66,
   "id": "742402e8-232b-4e70-ab4a-913ff72494a5",
   "metadata": {},
   "outputs": [
    {
     "name": "stdout",
     "output_type": "stream",
     "text": [
      "['+91 4759876220', '+91 3261117800', '+91 4921643347', '+91 0055778487', '+91 9688457831', '+91 4240082547', '+91 4064930853', '+91 3266341638', '+91 6312241797', '+91 5020802144', '+91 1207356475', '+91 2046187234', '+91 6730371837', '+91 0881474350', '+91 5024916300', '+91 5132719500', '+91 2735857306', '+91 7784873928', '+91 9821827448', '+91 2095935186', '+91 9456511810']\n"
     ]
    }
   ],
   "source": [
    "# faker don't directly support the customization of phone number on the basis of country code directly.\n",
    "indian_phone_numbers = ['+91 ' + faker.msisdn()[:10] for _ in range(21)]\n",
    "print(indian_phone_numbers)"
   ]
  },
  {
   "cell_type": "markdown",
   "id": "4a0da112-11a2-4f6d-a9b9-a93a98934a45",
   "metadata": {},
   "source": [
    "### Observations/Limitations ->\n",
    "### 1. Not support direct conversion or generation of phone number country wise.\n",
    "### 2. It support msisdn() function - faker.msisdn() generates a mobile subscriber ISDN (Integrated Services Digital Network) number, which is a unique identifier for a mobile phone."
   ]
  },
  {
   "cell_type": "code",
   "execution_count": 70,
   "id": "c9089047-8718-4b5f-b6e7-634f2b784e36",
   "metadata": {},
   "outputs": [
    {
     "name": "stdout",
     "output_type": "stream",
     "text": [
      "      Phone Number\n",
      "0   +91 6954899529\n",
      "1   +91 7293430107\n",
      "2   +91 6055830344\n",
      "3   +91 0155699023\n",
      "4   +91 0272785760\n",
      "5   +91 8803955124\n",
      "6   +91 9962914504\n",
      "7   +91 5743842150\n",
      "8   +91 7823578452\n",
      "9   +91 0768104091\n",
      "10  +91 8409435334\n",
      "11  +91 1422410988\n",
      "12  +91 8542493214\n",
      "13  +91 0207016016\n",
      "14  +91 9545381792\n",
      "15  +91 4773329456\n",
      "16  +91 7017157724\n",
      "17  +91 8161581487\n",
      "18  +91 9382761539\n",
      "19  +91 8321971997\n",
      "20  +91 2461919657\n"
     ]
    }
   ],
   "source": [
    "# let's try out the dataset for phone numbers.\n",
    "data={\n",
    "    'Phone Number':['+91' +\" \"+ faker.msisdn()[:10] for _ in range(21)]\n",
    "}\n",
    "dataframe=pd.DataFrame(data)\n",
    "print(dataframe)"
   ]
  },
  {
   "cell_type": "markdown",
   "id": "7353d14c-4980-41a4-bee6-4ac8d77a93b4",
   "metadata": {},
   "source": [
    "### faker_msisdn=faker.msisdn()\n",
    "### print(faker_msisdn) \n",
    "### Conclusion -> None use if single used for ex('4946519098624')."
   ]
  },
  {
   "cell_type": "markdown",
   "id": "c11f02f0-e965-4249-a257-049eddf34e83",
   "metadata": {},
   "source": [
    "### Fake Name Dataset Generation."
   ]
  },
  {
   "cell_type": "code",
   "execution_count": 93,
   "id": "1239f8b3-9140-4af3-b1df-c7354390af20",
   "metadata": {},
   "outputs": [
    {
     "name": "stdout",
     "output_type": "stream",
     "text": [
      "['Mrs. Samantha Clark', 'Rita Graves', 'Sean White', 'Mr. William Hopkins', 'Wendy Kelley', 'Michael Mooney', 'Jeanne Rose', 'Michael Lee', 'Jennifer Anderson', 'Lauren Trujillo', 'Michelle Ellis', 'Chad Dominguez', 'Charles Robinson', 'Nancy Smith', 'Laura Gregory', 'Brittany Clements MD', 'Tammy Davis', 'Catherine Williams', 'Miss Leslie Booker', 'Jennifer Johnson', 'John Watts']\n"
     ]
    }
   ],
   "source": [
    "fake_names=[faker.name() for _ in range(21)]\n",
    "print(fake_names)"
   ]
  },
  {
   "cell_type": "markdown",
   "id": "e5ac9463-2ba8-4e46-aa6c-9831d03cf400",
   "metadata": {},
   "source": [
    "### Converting into DataFrame."
   ]
  },
  {
   "cell_type": "code",
   "execution_count": 89,
   "id": "90558b27-4005-4e4d-abe8-b806dfbbf336",
   "metadata": {},
   "outputs": [
    {
     "name": "stdout",
     "output_type": "stream",
     "text": [
      "                  Name\n",
      "0      Kimberly Thomas\n",
      "1         Larry Carter\n",
      "2       Kelly Sandoval\n",
      "3        David Fuentes\n",
      "4           Amy Cooper\n",
      "5      Margaret Harris\n",
      "6       Collin Alvarez\n",
      "7       Julie Schwartz\n",
      "8         Kylie Rogers\n",
      "9          Gary Garcia\n",
      "10      Susan Crawford\n",
      "11     Margaret Steele\n",
      "12     Daniel Castillo\n",
      "13       Robin Aguirre\n",
      "14      James Mckenzie\n",
      "15         Adam Howard\n",
      "16    Brenda Alexander\n",
      "17          Susan Ward\n",
      "18  Christina Mitchell\n",
      "19     Dennis Thompson\n",
      "20   Danielle Gonzalez\n"
     ]
    }
   ],
   "source": [
    "data={\n",
    "    'Name':[faker.name() for _ in range(21)]\n",
    "}\n",
    "dataframe=pd.DataFrame(data)\n",
    "print(dataframe)"
   ]
  },
  {
   "cell_type": "markdown",
   "id": "9ecbddf5-accc-4c48-8d5e-f442699b20f6",
   "metadata": {},
   "source": [
    "### for i in range(21):\n",
    "###     print('Ayush' + \" \" + faker.name()[7:]) \n",
    "### for immediate need of name generation like 'Ayush' we can use slicing for fecthing only sir name.\n",
    "### for ex:(Ayush own, Ayush  Alvarez , Ayush  Davila , Ayush atfield , Ayush errano)"
   ]
  },
  {
   "cell_type": "code",
   "execution_count": 94,
   "id": "dc3ab80e-a7fb-49d0-8ca3-899a9035b68e",
   "metadata": {},
   "outputs": [
    {
     "name": "stdout",
     "output_type": "stream",
     "text": [
      "['Mr. Marissa Bennett', 'Mr. Rebecca Barrett', 'Mr. Sharon Santos', 'Mr. Matthew Richardson', 'Mr. Bradley Burns', 'Mr. Katrina Johnson', 'Mr. Laura Hill', 'Mr. Rebecca White', 'Mr. Mr. Jeffrey Duncan', 'Mr. Arthur Stout', 'Mr. Cathy Hess', 'Mr. Justin Herrera', 'Mr. Katherine Stone', 'Mr. Michelle Tyler', 'Mr. Paul Sheppard', 'Mr. Catherine George', 'Mr. Justin Mcbride', 'Mr. Carl Harris', 'Mr. Justin York', 'Mr. William Hunter', 'Mr. Joshua Henderson']\n"
     ]
    }
   ],
   "source": [
    "fake_names=['Mr.'+\" \"+faker.name() for _ in range(21)]\n",
    "print(fake_names)"
   ]
  },
  {
   "cell_type": "markdown",
   "id": "06caf779-f329-4903-adae-c357432bab8e",
   "metadata": {},
   "source": [
    "### Observations/Limitations ->\n",
    "### 1. Modification is possible but their is some kind of uncertainity in the results.\n",
    "### 2. For ex (Mr. Mr. Jeffrey Duncan)\n",
    "### Creating the data set with salutation (Mr./Mrs.)"
   ]
  },
  {
   "cell_type": "markdown",
   "id": "a182bd49-824c-4a64-82c9-1e476a80a14c",
   "metadata": {},
   "source": [
    "### Fake data creation for address."
   ]
  },
  {
   "cell_type": "code",
   "execution_count": 95,
   "id": "340af402-a077-456c-b119-4dc5cc4586f0",
   "metadata": {},
   "outputs": [
    {
     "name": "stdout",
     "output_type": "stream",
     "text": [
      "['USS Wright\\nFPO AE 68585', 'PSC 4872, Box 9758\\nAPO AA 79953', '103 Jacob Hills\\nEast Carrie, IL 78067', '961 Green Run\\nSouth Stephen, KS 89174', '314 Jennifer Port\\nSouth Lorraine, MD 57337', '41818 Jones Route\\nWest Reginaview, FL 30092', '3611 Alisha Wells\\nBriannafort, CT 69832', '491 George Terrace Suite 258\\nWoodsberg, KS 01745', '226 Brown Stream\\nJasminebury, TX 80284', '75784 Cisneros Pike Apt. 414\\nTownsendland, SC 10917', '29014 Stokes Branch\\nRhodesberg, NJ 65749', '0930 Park Summit\\nJohnhaven, TX 80349', '83215 Willie Center Suite 762\\nTaramouth, PW 89507', '4744 Aaron Roads\\nRobinsonport, SD 68072', '9705 Christina Isle\\nMichaeltown, MI 95191', '16731 Robert Oval Apt. 243\\nFosterport, MN 56644', '77225 Smith Ways Apt. 134\\nEast Ralphmouth, MH 04643', '4167 Marsh Station\\nWest Karen, WI 52913', '11022 Porter Trafficway Apt. 056\\nSouth Timothyport, NM 11329', '282 Juan Crescent\\nVirginiabury, TN 56751', '892 Victoria Ramp\\nEast David, MO 05529']\n"
     ]
    }
   ],
   "source": [
    "fake_address=[faker.address() for _ in range(21)]\n",
    "print(fake_address)"
   ]
  },
  {
   "cell_type": "markdown",
   "id": "61a4583c-54bc-47ee-a438-583ef6d0caf7",
   "metadata": {},
   "source": [
    "### Converting into dataframe."
   ]
  },
  {
   "cell_type": "code",
   "execution_count": 96,
   "id": "450d9d93-7149-49fa-97bc-0995426815fa",
   "metadata": {},
   "outputs": [
    {
     "name": "stdout",
     "output_type": "stream",
     "text": [
      "                                              Address\n",
      "0               60931 Omar Pine\\nIsabelbury, IN 44564\n",
      "1          604 Joseph Harbors\\nJenniferbury, MD 06734\n",
      "2                  53474 Ryan Glen\\nCoxport, DE 13200\n",
      "3            5598 Allen Harbor\\nNew Patrick, FM 14442\n",
      "4             93371 Shelly River\\nKevinfort, WV 26977\n",
      "5   23684 Jacobson Mission\\nSouth Carloschester, N...\n",
      "6           424 Stephanie Circle\\nLake Lisa, NM 90245\n",
      "7           78686 Lawson Ford\\nNorth Ernest, IL 78110\n",
      "8   844 Kenneth Grove Apt. 230\\nWest Benjamin, FL ...\n",
      "9                    PSC 4033, Box 8105\\nAPO AP 79820\n",
      "10                   Unit 5184 Box 2694\\nDPO AA 08006\n",
      "11         3424 Amanda Ways\\nLake Juliefurt, SD 34231\n",
      "12          3543 Moore Fort\\nRichardsonfort, CO 65507\n",
      "13         39724 Kyle Fall\\nMcdanielborough, CA 19312\n",
      "14              6182 Carrie Lane\\nSmithtown, WV 84974\n",
      "15                          USNS Wright\\nFPO AE 35583\n",
      "16            18513 Timothy Port\\nOchoaport, MA 63272\n",
      "17          481 Mallory Cove\\nCurtischester, FL 00659\n",
      "18                   PSC 0366, Box 2543\\nAPO AP 50930\n",
      "19            2131 Howard Ridges\\nDavidland, MH 06182\n",
      "20       8592 Hernandez Shores\\nColleenport, MI 14122\n"
     ]
    }
   ],
   "source": [
    "data={\n",
    "    'Address':[faker.address() for _ in range(21)]\n",
    "}\n",
    "dataframe=pd.DataFrame(data)\n",
    "print(dataframe)"
   ]
  },
  {
   "cell_type": "markdown",
   "id": "903ee8d4-e4d4-498c-9c44-a0f0475d1240",
   "metadata": {},
   "source": [
    "### Understanding the way to manipulate/generate single value address field."
   ]
  },
  {
   "cell_type": "code",
   "execution_count": 106,
   "id": "c7b297a3-15d5-499f-8e55-8655859ec7cb",
   "metadata": {},
   "outputs": [
    {
     "name": "stdout",
     "output_type": "stream",
     "text": [
      "Steelechester\n",
      "Rhode Island\n",
      "South Africa\n"
     ]
    }
   ],
   "source": [
    "# let's modify the country type/ state type /city type.\n",
    "fake_city = faker.city()\n",
    "fake_state =faker.state()\n",
    "fake_country=faker.country()\n",
    "print(fake_city)\n",
    "print(fake_state)\n",
    "print(fake_country)"
   ]
  },
  {
   "cell_type": "markdown",
   "id": "905d1d9c-72ad-4595-aa8b-f7f09d39827f",
   "metadata": {},
   "source": [
    "### Converting into dataframe for each specific entity."
   ]
  },
  {
   "cell_type": "code",
   "execution_count": 119,
   "id": "2e5dc13d-555e-4e68-bd76-1022f063f0d5",
   "metadata": {},
   "outputs": [
    {
     "name": "stdout",
     "output_type": "stream",
     "text": [
      "                             Address\n",
      "0                         Tajikistan\n",
      "1       Svalbard & Jan Mayen Islands\n",
      "2                           Maldives\n",
      "3       Svalbard & Jan Mayen Islands\n",
      "4   Saint Vincent and the Grenadines\n",
      "5               Netherlands Antilles\n",
      "6                              Ghana\n",
      "7                            Grenada\n",
      "8                              Chile\n",
      "9                         Montserrat\n",
      "10                            Jersey\n",
      "11                Dominican Republic\n",
      "12                           Moldova\n",
      "13                             India\n",
      "14                             Congo\n",
      "15                         Nicaragua\n",
      "16                            Norway\n",
      "17                             India\n",
      "18                       Switzerland\n",
      "19                           Austria\n",
      "20                             Spain\n"
     ]
    }
   ],
   "source": [
    "# let's try country wise.\n",
    "data={\n",
    "    'Address':[faker.country() for _ in range(21)]\n",
    "}\n",
    "dataframe=pd.DataFrame(data)\n",
    "print(dataframe)"
   ]
  },
  {
   "cell_type": "markdown",
   "id": "ba2d284b-220b-455c-a13a-22a1118fed72",
   "metadata": {},
   "source": [
    "### Rest same for all specific type just need to change the function call."
   ]
  },
  {
   "cell_type": "code",
   "execution_count": 120,
   "id": "db2815ae-4080-4706-8965-d653ff45456e",
   "metadata": {},
   "outputs": [
    {
     "name": "stdout",
     "output_type": "stream",
     "text": [
      "           Address\n",
      "0           Oregon\n",
      "1           Nevada\n",
      "2          Florida\n",
      "3     South Dakota\n",
      "4         Missouri\n",
      "5       Washington\n",
      "6            Idaho\n",
      "7          Montana\n",
      "8    Massachusetts\n",
      "9     North Dakota\n",
      "10          Hawaii\n",
      "11          Nevada\n",
      "12            Iowa\n",
      "13     Connecticut\n",
      "14        Virginia\n",
      "15         Florida\n",
      "16  North Carolina\n",
      "17        Delaware\n",
      "18    South Dakota\n",
      "19          Oregon\n",
      "20         Montana\n"
     ]
    }
   ],
   "source": [
    "# let's try state wise.\n",
    "data={\n",
    "    'Address':[faker.state() for _ in range(21)]\n",
    "}\n",
    "dataframe=pd.DataFrame(data)\n",
    "print(dataframe)"
   ]
  },
  {
   "cell_type": "code",
   "execution_count": 121,
   "id": "2209d1c4-ffdb-48f1-b176-6e40ac15abdd",
   "metadata": {},
   "outputs": [
    {
     "name": "stdout",
     "output_type": "stream",
     "text": [
      "                 Address\n",
      "0              Maryburgh\n",
      "1              Jamesland\n",
      "2   South Alexandershire\n",
      "3        North Christine\n",
      "4        New Patrickberg\n",
      "5            Waltersstad\n",
      "6            East Denise\n",
      "7             West James\n",
      "8          Lake Kimberly\n",
      "9            Townsendton\n",
      "10       Christopherberg\n",
      "11       Lake Traciville\n",
      "12       South Saraville\n",
      "13      East Justinburgh\n",
      "14        North Troystad\n",
      "15           South Craig\n",
      "16     South Charlesland\n",
      "17           Lake Robert\n",
      "18          Cynthiamouth\n",
      "19             East Kent\n",
      "20           Lake Ashley\n"
     ]
    }
   ],
   "source": [
    "# let's try city wise\n",
    "data={\n",
    "    'Address':[faker.city() for _ in range(21)]\n",
    "}\n",
    "dataframe=pd.DataFrame(data)\n",
    "print(dataframe)"
   ]
  },
  {
   "cell_type": "markdown",
   "id": "469ecefb-6894-4215-b3d2-146f269f02bd",
   "metadata": {},
   "source": [
    "### Observations/Limitations ->\n",
    "### 1. Through this we can generate a better datasets for country / state / city type.\n",
    "### 2. Results were all clear."
   ]
  },
  {
   "cell_type": "markdown",
   "id": "89ba3da1-36dd-42ae-afba-64fc0bb921e5",
   "metadata": {},
   "source": [
    "### Fake data creation for DOB."
   ]
  },
  {
   "cell_type": "code",
   "execution_count": 126,
   "id": "a8157647-4440-42d9-96b0-c9013a56237f",
   "metadata": {},
   "outputs": [
    {
     "name": "stdout",
     "output_type": "stream",
     "text": [
      "2016-03-29\n",
      "2012-08-10\n",
      "1988-04-06\n",
      "1950-09-13\n",
      "1930-11-03\n",
      "2016-05-15\n",
      "1936-04-22\n",
      "2006-07-26\n",
      "1974-09-09\n",
      "1967-04-16\n",
      "1969-01-06\n",
      "1965-12-19\n",
      "1989-06-15\n",
      "2009-12-21\n",
      "1945-04-08\n",
      "2019-05-04\n",
      "1951-09-05\n",
      "1993-01-27\n",
      "1922-12-07\n",
      "1990-12-12\n",
      "1960-06-05\n"
     ]
    }
   ],
   "source": [
    "# fake_dob=[faker.date_of_birth() for _ in range(21)]\n",
    "# print(fake_dob)\n",
    "for i in range(21):\n",
    "    print(faker.date_of_birth())\n",
    "# fake_birth=faker.date_of_birth()\n",
    "# print(fake_birth)"
   ]
  },
  {
   "cell_type": "markdown",
   "id": "b3508bef-ee76-444d-824c-df2fce0523ab",
   "metadata": {},
   "source": [
    "### Converting them into dataframe."
   ]
  },
  {
   "cell_type": "code",
   "execution_count": 132,
   "id": "84171fc3-5c24-46ae-86f7-1b7468a3a3b1",
   "metadata": {},
   "outputs": [
    {
     "name": "stdout",
     "output_type": "stream",
     "text": [
      "           DOB\n",
      "0   1927-01-18\n",
      "1   1987-09-15\n",
      "2   1970-12-31\n",
      "3   1924-08-13\n",
      "4   1925-06-26\n",
      "5   1951-10-05\n",
      "6   1928-06-10\n",
      "7   2010-10-14\n",
      "8   1987-10-19\n",
      "9   2024-01-02\n",
      "10  1964-07-18\n",
      "11  1994-12-24\n",
      "12  1969-02-07\n",
      "13  1999-03-31\n",
      "14  1924-12-14\n",
      "15  1979-04-24\n",
      "16  1980-02-07\n",
      "17  1941-01-12\n",
      "18  1986-12-12\n",
      "19  1973-05-05\n",
      "20  1998-04-18\n"
     ]
    }
   ],
   "source": [
    "### let's try the DOB.\n",
    "data={\n",
    "    'DOB':[faker.date_of_birth() for _ in range(21)]\n",
    "}\n",
    "dataframe=pd.DataFrame(data)\n",
    "print(dataframe)"
   ]
  },
  {
   "cell_type": "markdown",
   "id": "4d6d2223-568d-471a-b508-a8f7eb71d406",
   "metadata": {},
   "source": [
    "### Observations/Limitations ->\n",
    "### 1. All clear no changes/modifications required."
   ]
  },
  {
   "cell_type": "markdown",
   "id": "a975d36c-8eb3-42d0-951d-bc0c0069880d",
   "metadata": {},
   "source": [
    "### Fake data creation for SSN"
   ]
  },
  {
   "cell_type": "code",
   "execution_count": 130,
   "id": "f91ce2ec-23a4-4358-9a27-39b09ea24e23",
   "metadata": {},
   "outputs": [
    {
     "name": "stdout",
     "output_type": "stream",
     "text": [
      "['327-89-0179', '735-43-3503', '477-73-5269', '239-72-1086', '395-37-9860', '218-68-3563', '106-72-4556', '734-78-1226', '588-83-6910', '699-97-7131', '326-41-3247', '202-07-8093', '511-06-4497', '432-16-2034', '464-22-9854', '335-76-6273', '243-74-0349', '292-03-9434', '005-60-4660', '135-52-0607', '547-68-0641']\n"
     ]
    }
   ],
   "source": [
    "# let's try ssn.\n",
    "fake_ssn=[faker.ssn() for _ in range(21)]\n",
    "print(fake_ssn)"
   ]
  },
  {
   "cell_type": "code",
   "execution_count": 131,
   "id": "79351848-2fe0-431d-8846-81d54c72bde3",
   "metadata": {},
   "outputs": [
    {
     "name": "stdout",
     "output_type": "stream",
     "text": [
      "            SSN\n",
      "0   346-83-0267\n",
      "1   072-61-1559\n",
      "2   850-54-4932\n",
      "3   282-41-5666\n",
      "4   410-11-9117\n",
      "5   794-41-8091\n",
      "6   628-07-6445\n",
      "7   306-90-7448\n",
      "8   506-83-1990\n",
      "9   864-48-1684\n",
      "10  030-29-0784\n",
      "11  846-02-2274\n",
      "12  108-42-7139\n",
      "13  232-22-1443\n",
      "14  196-93-6044\n",
      "15  836-69-0081\n",
      "16  705-07-4255\n",
      "17  804-06-1816\n",
      "18  050-39-1230\n",
      "19  271-43-6219\n",
      "20  277-90-2791\n"
     ]
    }
   ],
   "source": [
    "### Converting into dataframe.\n",
    "data={\n",
    "    'SSN':[faker.ssn() for _ in range(21)]\n",
    "}\n",
    "dataframe=pd.DataFrame(data)\n",
    "print(dataframe)"
   ]
  },
  {
   "cell_type": "markdown",
   "id": "75f8dec2-d81c-4681-871b-8db950444a98",
   "metadata": {},
   "source": [
    "### Observations/Limitations ->\n",
    "### 1. All clear no changes/modifications required."
   ]
  },
  {
   "cell_type": "markdown",
   "id": "89585998-816b-4104-a8a7-3b3cbeb75f0b",
   "metadata": {},
   "source": [
    "### Create Final BigData ->"
   ]
  },
  {
   "cell_type": "code",
   "execution_count": 135,
   "id": "63a455cd-4db9-4b10-856c-63d82e8d8894",
   "metadata": {},
   "outputs": [
    {
     "name": "stdout",
     "output_type": "stream",
     "text": [
      "                     Name                                   Email  \\\n",
      "0            Jesse Tucker               yfritz@ayushorg@gmail.com   \n",
      "1           Jennifer Wise         nicholasrush@ayushorg@gmail.com   \n",
      "2           David Walters         davisjeffery@ayushorg@gmail.com   \n",
      "3            Rebekah Cole        duncangregory@ayushorg@gmail.com   \n",
      "4             John Rogers           katiejoyce@ayushorg@gmail.com   \n",
      "5             Holly Floyd              wpierce@ayushorg@gmail.com   \n",
      "6       Ms. Janet Leonard         robertgreene@ayushorg@gmail.com   \n",
      "7            George Villa             kaylee15@ayushorg@gmail.com   \n",
      "8          Christina Hess               zperez@ayushorg@gmail.com   \n",
      "9         Jordan Williams             ssherman@ayushorg@gmail.com   \n",
      "10            Bryan Burns               lmoore@ayushorg@gmail.com   \n",
      "11          Stephen Parks             iroberts@ayushorg@gmail.com   \n",
      "12        George Phillips            kathryn21@ayushorg@gmail.com   \n",
      "13         Kimberly White           acarpenter@ayushorg@gmail.com   \n",
      "14            Alan Nguyen             ojenkins@ayushorg@gmail.com   \n",
      "15           Linda Howard     montgomerydillon@ayushorg@gmail.com   \n",
      "16          Parker Wright        greenejessica@ayushorg@gmail.com   \n",
      "17         Brandon Acosta           nguyenjohn@ayushorg@gmail.com   \n",
      "18           Jessica Hill               xcohen@ayushorg@gmail.com   \n",
      "19        Melissa Sanchez           paulnicole@ayushorg@gmail.com   \n",
      "20          Sandy Oconnor              marnold@ayushorg@gmail.com   \n",
      "21             Judy Jones         stephensharp@ayushorg@gmail.com   \n",
      "22         Charles Davila         gregorygiles@ayushorg@gmail.com   \n",
      "23            Sonia Reyes         marcuscarter@ayushorg@gmail.com   \n",
      "24       Mrs. Tammy Curry          clarksteven@ayushorg@gmail.com   \n",
      "25          Alex Clements      gabrielawallace@ayushorg@gmail.com   \n",
      "26        Matthew Andrade         laurakaufman@ayushorg@gmail.com   \n",
      "27         Jessica Wilson             laramary@ayushorg@gmail.com   \n",
      "28            Dean Turner            johnbowen@ayushorg@gmail.com   \n",
      "29          Sarah Sanchez         smithantonio@ayushorg@gmail.com   \n",
      "30     Jacqueline Kennedy             ecamacho@ayushorg@gmail.com   \n",
      "31        Jessica Burgess               ajones@ayushorg@gmail.com   \n",
      "32         Destiny Powers             nicole81@ayushorg@gmail.com   \n",
      "33          Susan Gregory        gonzalesmaria@ayushorg@gmail.com   \n",
      "34            Jason Smith        carterraymond@ayushorg@gmail.com   \n",
      "35           Carlos Adams          coxjennifer@ayushorg@gmail.com   \n",
      "36         Vanessa Flores           hpatterson@ayushorg@gmail.com   \n",
      "37          Albert Nguyen           thomasjose@ayushorg@gmail.com   \n",
      "38          Dwayne Joseph         bowenmichael@ayushorg@gmail.com   \n",
      "39           Leah Walters             donald37@ayushorg@gmail.com   \n",
      "40           James Spears         josephrivera@ayushorg@gmail.com   \n",
      "41           Gilbert Reed           ellisjenna@ayushorg@gmail.com   \n",
      "42            Joel Newton    katherinepeterson@ayushorg@gmail.com   \n",
      "43       Michael Chambers              crivera@ayushorg@gmail.com   \n",
      "44          Andrew Phelps             ashley90@ayushorg@gmail.com   \n",
      "45           Lynn Hoffman          earlroberts@ayushorg@gmail.com   \n",
      "46          Daniel Mercer        nicoleelliott@ayushorg@gmail.com   \n",
      "47          Edgar Stewart         kristopher29@ayushorg@gmail.com   \n",
      "48           Alyssa Weber             thomas74@ayushorg@gmail.com   \n",
      "49           Guy Reynolds            julianeal@ayushorg@gmail.com   \n",
      "50  Allison Mcpherson DDS  catherinevillarreal@ayushorg@gmail.com   \n",
      "\n",
      "                                         Country          SSN         DOB  \\\n",
      "0                              Equatorial Guinea  317-27-3676  1995-02-11   \n",
      "1                       Northern Mariana Islands  154-36-9972  2001-10-16   \n",
      "2                                        Denmark  797-94-1960  1981-08-07   \n",
      "3   Antarctica (the territory South of 60 deg S)  667-26-5841  2020-03-31   \n",
      "4                                       Thailand  511-59-9330  1933-02-26   \n",
      "5                                        Croatia  654-02-8588  1934-08-24   \n",
      "6                                        Myanmar  234-95-3319  2014-04-16   \n",
      "7                                          Gabon  373-86-0539  1923-02-04   \n",
      "8                                       Cameroon  409-81-1620  2012-02-14   \n",
      "9                                        Myanmar  338-65-1101  1939-11-05   \n",
      "10                                American Samoa  278-71-8762  1937-04-26   \n",
      "11                                       Eritrea  867-95-8811  1950-02-09   \n",
      "12                                         Haiti  894-11-0918  1976-08-03   \n",
      "13                                  Saint Helena  458-73-8568  1949-11-10   \n",
      "14                                        Malawi  254-32-4196  1951-11-08   \n",
      "15                                         Samoa  817-95-2994  2012-08-09   \n",
      "16                           Trinidad and Tobago  707-84-4016  1980-06-26   \n",
      "17                                      Maldives  234-89-7473  1972-07-09   \n",
      "18                                          Iraq  182-06-9981  1922-04-22   \n",
      "19                                       Lesotho  273-71-4547  2001-06-28   \n",
      "20                                         Niger  094-96-3114  1949-02-19   \n",
      "21                          United Arab Emirates  751-09-2172  1991-04-03   \n",
      "22                                         Chile  536-39-0998  1936-12-01   \n",
      "23                                     Guatemala  213-30-3997  1986-01-04   \n",
      "24                                        Norway  600-98-9524  1999-09-28   \n",
      "25                                    Cape Verde  489-60-1611  1929-05-04   \n",
      "26                                       Namibia  550-07-5225  1952-05-12   \n",
      "27                                   Timor-Leste  809-82-1197  1929-08-01   \n",
      "28                                         Macao  202-62-1908  1934-06-01   \n",
      "29                                       Germany  453-11-7800  2012-08-08   \n",
      "30                                          Mali  203-13-8887  1962-03-24   \n",
      "31                 Holy See (Vatican City State)  604-28-9803  2015-03-31   \n",
      "32                                      Honduras  499-39-9328  1931-09-05   \n",
      "33                                         Tonga  010-75-7042  1929-10-17   \n",
      "34                                       Vanuatu  882-15-7253  1991-05-03   \n",
      "35                        Libyan Arab Jamahiriya  797-83-3192  1998-06-23   \n",
      "36                                          Oman  604-82-7476  1929-09-07   \n",
      "37                                         Chile  001-33-6672  1952-08-15   \n",
      "38                           Trinidad and Tobago  616-35-8071  1978-08-03   \n",
      "39                                         Malta  647-23-5385  1972-10-11   \n",
      "40                                       Liberia  520-62-8425  1997-03-28   \n",
      "41                                         China  291-83-4910  1989-04-23   \n",
      "42                                       Liberia  271-69-4080  2015-08-24   \n",
      "43                                       Ukraine  350-36-9196  1965-01-14   \n",
      "44                                     Hong Kong  516-40-7210  2014-06-03   \n",
      "45                                American Samoa  115-97-2985  2007-03-03   \n",
      "46                                      Paraguay  500-01-5230  1944-12-17   \n",
      "47                                         Yemen  522-61-8123  1939-06-05   \n",
      "48                                       Bahrain  168-23-1075  1944-01-27   \n",
      "49                                          Guam  779-56-4992  1972-07-14   \n",
      "50                                Czech Republic  097-57-5611  2021-11-12   \n",
      "\n",
      "           Contact  \n",
      "0   +91 5245557469  \n",
      "1   +91 0652740334  \n",
      "2   +91 6658833987  \n",
      "3   +91 2579706734  \n",
      "4   +91 1054857417  \n",
      "5   +91 2294938173  \n",
      "6   +91 8840215573  \n",
      "7   +91 7553449021  \n",
      "8   +91 0808509608  \n",
      "9   +91 9511918182  \n",
      "10  +91 9316477251  \n",
      "11  +91 8606940960  \n",
      "12  +91 2439587395  \n",
      "13  +91 3421089028  \n",
      "14  +91 3334264335  \n",
      "15  +91 6073607763  \n",
      "16  +91 1289812317  \n",
      "17  +91 3318574817  \n",
      "18  +91 6155416431  \n",
      "19  +91 5023290282  \n",
      "20  +91 9345962622  \n",
      "21  +91 1207346549  \n",
      "22  +91 0702608698  \n",
      "23  +91 5316117768  \n",
      "24  +91 4774258591  \n",
      "25  +91 2382231164  \n",
      "26  +91 4245798894  \n",
      "27  +91 2906032020  \n",
      "28  +91 0977539673  \n",
      "29  +91 1485524578  \n",
      "30  +91 1560821371  \n",
      "31  +91 5476818268  \n",
      "32  +91 3589298808  \n",
      "33  +91 5212932896  \n",
      "34  +91 4686775240  \n",
      "35  +91 3991062272  \n",
      "36  +91 6933513426  \n",
      "37  +91 7245018481  \n",
      "38  +91 4189721540  \n",
      "39  +91 6927438119  \n",
      "40  +91 6601444856  \n",
      "41  +91 1739739641  \n",
      "42  +91 9860919191  \n",
      "43  +91 6057798066  \n",
      "44  +91 0514607455  \n",
      "45  +91 0574238856  \n",
      "46  +91 5598354116  \n",
      "47  +91 6347557522  \n",
      "48  +91 9488488269  \n",
      "49  +91 9642585626  \n",
      "50  +91 5370382407  \n"
     ]
    }
   ],
   "source": [
    "data={\n",
    "    'Name':[faker.name() for _ in range(51)],\n",
    "    'Email':[faker.email(domain='ayushorg@gmail.com') for _ in range(51)],\n",
    "    'Country':[faker.country() for _ in range(51)],\n",
    "    'SSN':[faker.ssn() for _ in range(51)],\n",
    "    'DOB':[faker.date_of_birth() for _ in range(51)],\n",
    "    'Contact':['+91'+\" \"+ faker.msisdn()[:10] for _ in range(51)]\n",
    "}\n",
    "dataframe=pd.DataFrame(data)\n",
    "print(dataframe)"
   ]
  },
  {
   "cell_type": "markdown",
   "id": "2c1791ea-18ff-4070-b94f-7bfb7fa9437e",
   "metadata": {},
   "source": [
    "### Fake Data Generated Successfully."
   ]
  },
  {
   "cell_type": "markdown",
   "id": "9e117438-51f9-4d69-8a46-008f5cf49999",
   "metadata": {},
   "source": [
    "### © Made with ♥ by Ayush Siloiya"
   ]
  }
 ],
 "metadata": {
  "kernelspec": {
   "display_name": "Python 3 (ipykernel)",
   "language": "python",
   "name": "python3"
  },
  "language_info": {
   "codemirror_mode": {
    "name": "ipython",
    "version": 3
   },
   "file_extension": ".py",
   "mimetype": "text/x-python",
   "name": "python",
   "nbconvert_exporter": "python",
   "pygments_lexer": "ipython3",
   "version": "3.12.1"
  }
 },
 "nbformat": 4,
 "nbformat_minor": 5
}
